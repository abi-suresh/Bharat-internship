{
  "nbformat": 4,
  "nbformat_minor": 0,
  "metadata": {
    "colab": {
      "provenance": []
    },
    "kernelspec": {
      "name": "python3",
      "display_name": "Python 3"
    },
    "language_info": {
      "name": "python"
    }
  },
  "cells": [
    {
      "cell_type": "code",
      "source": [
        "import pandas as pd\n",
        "import numpy as np\n",
        "from sklearn.feature_extraction.text import TfidfVectorizer\n",
        "from sklearn.metrics.pairwise import cosine_similarity\n",
        "from sklearn.feature_extraction.text import CountVectorizer\n",
        "from sklearn.metrics.pairwise import linear_kernel\n",
        "import ast\n",
        "from google.colab import files\n",
        "uploaded = files.upload()"
      ],
      "metadata": {
        "colab": {
          "base_uri": "https://localhost:8080/",
          "height": 73
        },
        "id": "IeC9Gfp_6NPx",
        "outputId": "7718ab3f-bc2a-45c6-f7ff-b6ad46cd4c36"
      },
      "execution_count": null,
      "outputs": [
        {
          "output_type": "display_data",
          "data": {
            "text/plain": [
              "<IPython.core.display.HTML object>"
            ],
            "text/html": [
              "\n",
              "     <input type=\"file\" id=\"files-5a1d24da-d23c-4d5a-8d27-ac8fd8d3b4be\" name=\"files[]\" multiple disabled\n",
              "        style=\"border:none\" />\n",
              "     <output id=\"result-5a1d24da-d23c-4d5a-8d27-ac8fd8d3b4be\">\n",
              "      Upload widget is only available when the cell has been executed in the\n",
              "      current browser session. Please rerun this cell to enable.\n",
              "      </output>\n",
              "      <script>// Copyright 2017 Google LLC\n",
              "//\n",
              "// Licensed under the Apache License, Version 2.0 (the \"License\");\n",
              "// you may not use this file except in compliance with the License.\n",
              "// You may obtain a copy of the License at\n",
              "//\n",
              "//      http://www.apache.org/licenses/LICENSE-2.0\n",
              "//\n",
              "// Unless required by applicable law or agreed to in writing, software\n",
              "// distributed under the License is distributed on an \"AS IS\" BASIS,\n",
              "// WITHOUT WARRANTIES OR CONDITIONS OF ANY KIND, either express or implied.\n",
              "// See the License for the specific language governing permissions and\n",
              "// limitations under the License.\n",
              "\n",
              "/**\n",
              " * @fileoverview Helpers for google.colab Python module.\n",
              " */\n",
              "(function(scope) {\n",
              "function span(text, styleAttributes = {}) {\n",
              "  const element = document.createElement('span');\n",
              "  element.textContent = text;\n",
              "  for (const key of Object.keys(styleAttributes)) {\n",
              "    element.style[key] = styleAttributes[key];\n",
              "  }\n",
              "  return element;\n",
              "}\n",
              "\n",
              "// Max number of bytes which will be uploaded at a time.\n",
              "const MAX_PAYLOAD_SIZE = 100 * 1024;\n",
              "\n",
              "function _uploadFiles(inputId, outputId) {\n",
              "  const steps = uploadFilesStep(inputId, outputId);\n",
              "  const outputElement = document.getElementById(outputId);\n",
              "  // Cache steps on the outputElement to make it available for the next call\n",
              "  // to uploadFilesContinue from Python.\n",
              "  outputElement.steps = steps;\n",
              "\n",
              "  return _uploadFilesContinue(outputId);\n",
              "}\n",
              "\n",
              "// This is roughly an async generator (not supported in the browser yet),\n",
              "// where there are multiple asynchronous steps and the Python side is going\n",
              "// to poll for completion of each step.\n",
              "// This uses a Promise to block the python side on completion of each step,\n",
              "// then passes the result of the previous step as the input to the next step.\n",
              "function _uploadFilesContinue(outputId) {\n",
              "  const outputElement = document.getElementById(outputId);\n",
              "  const steps = outputElement.steps;\n",
              "\n",
              "  const next = steps.next(outputElement.lastPromiseValue);\n",
              "  return Promise.resolve(next.value.promise).then((value) => {\n",
              "    // Cache the last promise value to make it available to the next\n",
              "    // step of the generator.\n",
              "    outputElement.lastPromiseValue = value;\n",
              "    return next.value.response;\n",
              "  });\n",
              "}\n",
              "\n",
              "/**\n",
              " * Generator function which is called between each async step of the upload\n",
              " * process.\n",
              " * @param {string} inputId Element ID of the input file picker element.\n",
              " * @param {string} outputId Element ID of the output display.\n",
              " * @return {!Iterable<!Object>} Iterable of next steps.\n",
              " */\n",
              "function* uploadFilesStep(inputId, outputId) {\n",
              "  const inputElement = document.getElementById(inputId);\n",
              "  inputElement.disabled = false;\n",
              "\n",
              "  const outputElement = document.getElementById(outputId);\n",
              "  outputElement.innerHTML = '';\n",
              "\n",
              "  const pickedPromise = new Promise((resolve) => {\n",
              "    inputElement.addEventListener('change', (e) => {\n",
              "      resolve(e.target.files);\n",
              "    });\n",
              "  });\n",
              "\n",
              "  const cancel = document.createElement('button');\n",
              "  inputElement.parentElement.appendChild(cancel);\n",
              "  cancel.textContent = 'Cancel upload';\n",
              "  const cancelPromise = new Promise((resolve) => {\n",
              "    cancel.onclick = () => {\n",
              "      resolve(null);\n",
              "    };\n",
              "  });\n",
              "\n",
              "  // Wait for the user to pick the files.\n",
              "  const files = yield {\n",
              "    promise: Promise.race([pickedPromise, cancelPromise]),\n",
              "    response: {\n",
              "      action: 'starting',\n",
              "    }\n",
              "  };\n",
              "\n",
              "  cancel.remove();\n",
              "\n",
              "  // Disable the input element since further picks are not allowed.\n",
              "  inputElement.disabled = true;\n",
              "\n",
              "  if (!files) {\n",
              "    return {\n",
              "      response: {\n",
              "        action: 'complete',\n",
              "      }\n",
              "    };\n",
              "  }\n",
              "\n",
              "  for (const file of files) {\n",
              "    const li = document.createElement('li');\n",
              "    li.append(span(file.name, {fontWeight: 'bold'}));\n",
              "    li.append(span(\n",
              "        `(${file.type || 'n/a'}) - ${file.size} bytes, ` +\n",
              "        `last modified: ${\n",
              "            file.lastModifiedDate ? file.lastModifiedDate.toLocaleDateString() :\n",
              "                                    'n/a'} - `));\n",
              "    const percent = span('0% done');\n",
              "    li.appendChild(percent);\n",
              "\n",
              "    outputElement.appendChild(li);\n",
              "\n",
              "    const fileDataPromise = new Promise((resolve) => {\n",
              "      const reader = new FileReader();\n",
              "      reader.onload = (e) => {\n",
              "        resolve(e.target.result);\n",
              "      };\n",
              "      reader.readAsArrayBuffer(file);\n",
              "    });\n",
              "    // Wait for the data to be ready.\n",
              "    let fileData = yield {\n",
              "      promise: fileDataPromise,\n",
              "      response: {\n",
              "        action: 'continue',\n",
              "      }\n",
              "    };\n",
              "\n",
              "    // Use a chunked sending to avoid message size limits. See b/62115660.\n",
              "    let position = 0;\n",
              "    do {\n",
              "      const length = Math.min(fileData.byteLength - position, MAX_PAYLOAD_SIZE);\n",
              "      const chunk = new Uint8Array(fileData, position, length);\n",
              "      position += length;\n",
              "\n",
              "      const base64 = btoa(String.fromCharCode.apply(null, chunk));\n",
              "      yield {\n",
              "        response: {\n",
              "          action: 'append',\n",
              "          file: file.name,\n",
              "          data: base64,\n",
              "        },\n",
              "      };\n",
              "\n",
              "      let percentDone = fileData.byteLength === 0 ?\n",
              "          100 :\n",
              "          Math.round((position / fileData.byteLength) * 100);\n",
              "      percent.textContent = `${percentDone}% done`;\n",
              "\n",
              "    } while (position < fileData.byteLength);\n",
              "  }\n",
              "\n",
              "  // All done.\n",
              "  yield {\n",
              "    response: {\n",
              "      action: 'complete',\n",
              "    }\n",
              "  };\n",
              "}\n",
              "\n",
              "scope.google = scope.google || {};\n",
              "scope.google.colab = scope.google.colab || {};\n",
              "scope.google.colab._files = {\n",
              "  _uploadFiles,\n",
              "  _uploadFilesContinue,\n",
              "};\n",
              "})(self);\n",
              "</script> "
            ]
          },
          "metadata": {}
        },
        {
          "output_type": "stream",
          "name": "stdout",
          "text": [
            "Saving movies.csv to movies.csv\n"
          ]
        }
      ]
    },
    {
      "cell_type": "code",
      "source": [
        "movies = pd.read_csv('movies.csv', low_memory=False)"
      ],
      "metadata": {
        "id": "bJ3SiSdX6fa4"
      },
      "execution_count": null,
      "outputs": []
    },
    {
      "cell_type": "code",
      "source": [
        "print(movies.head())"
      ],
      "metadata": {
        "colab": {
          "base_uri": "https://localhost:8080/"
        },
        "id": "z0Tjqvhy6xqF",
        "outputId": "2283e2a7-20de-4575-ea92-1801ef3d53be"
      },
      "execution_count": null,
      "outputs": [
        {
          "output_type": "stream",
          "name": "stdout",
          "text": [
            "   Unnamed: 0      id    imdb_id  popularity       budget       revenue  \\\n",
            "0           0  135397  tt0369610   32.985763  150000000.0  1.513529e+09   \n",
            "1           1   76341  tt1392190   28.419936  150000000.0  3.784364e+08   \n",
            "2           2  262500  tt2908446   13.112507  110000000.0  2.952382e+08   \n",
            "3           3  140607  tt2488496   11.173104  200000000.0  2.068178e+09   \n",
            "4           4  168259  tt2820852    9.335014  190000000.0  1.506249e+09   \n",
            "\n",
            "                 original_title  \\\n",
            "0                Jurassic World   \n",
            "1            Mad Max: Fury Road   \n",
            "2                     Insurgent   \n",
            "3  Star Wars: The Force Awakens   \n",
            "4                     Furious 7   \n",
            "\n",
            "                                                cast  \\\n",
            "0  Chris Pratt|Bryce Dallas Howard|Irrfan Khan|Vi...   \n",
            "1  Tom Hardy|Charlize Theron|Hugh Keays-Byrne|Nic...   \n",
            "2  Shailene Woodley|Theo James|Kate Winslet|Ansel...   \n",
            "3  Harrison Ford|Mark Hamill|Carrie Fisher|Adam D...   \n",
            "4  Vin Diesel|Paul Walker|Jason Statham|Michelle ...   \n",
            "\n",
            "                                            homepage          director  ...  \\\n",
            "0                      http://www.jurassicworld.com/   Colin Trevorrow  ...   \n",
            "1                        http://www.madmaxmovie.com/     George Miller  ...   \n",
            "2     http://www.thedivergentseries.movie/#insurgent  Robert Schwentke  ...   \n",
            "3  http://www.starwars.com/films/star-wars-episod...       J.J. Abrams  ...   \n",
            "4                           http://www.furious7.com/         James Wan  ...   \n",
            "\n",
            "                                      genres  \\\n",
            "0  Action|Adventure|Science Fiction|Thriller   \n",
            "1  Action|Adventure|Science Fiction|Thriller   \n",
            "2         Adventure|Science Fiction|Thriller   \n",
            "3   Action|Adventure|Science Fiction|Fantasy   \n",
            "4                      Action|Crime|Thriller   \n",
            "\n",
            "                                production_companies release_date  vote_count  \\\n",
            "0  Universal Studios|Amblin Entertainment|Legenda...   2015-06-09        5562   \n",
            "1  Village Roadshow Pictures|Kennedy Miller Produ...   2015-05-13        6185   \n",
            "2  Summit Entertainment|Mandeville Films|Red Wago...   2015-03-18        2480   \n",
            "3          Lucasfilm|Truenorth Productions|Bad Robot   2015-12-15        5292   \n",
            "4  Universal Pictures|Original Film|Media Rights ...   2015-04-01        2947   \n",
            "\n",
            "  vote_average release_year    budget_adj   revenue_adj        profit  \\\n",
            "0          6.5         2015  1.379999e+08  1.392446e+09  1.363529e+09   \n",
            "1          7.1         2015  1.379999e+08  3.481613e+08  2.284364e+08   \n",
            "2          6.3         2015  1.012000e+08  2.716190e+08  1.852382e+08   \n",
            "3          7.5         2015  1.839999e+08  1.902723e+09  1.868178e+09   \n",
            "4          7.3         2015  1.747999e+08  1.385749e+09  1.316249e+09   \n",
            "\n",
            "   popularity_level  \n",
            "0              High  \n",
            "1              High  \n",
            "2              High  \n",
            "3              High  \n",
            "4              High  \n",
            "\n",
            "[5 rows x 24 columns]\n"
          ]
        }
      ]
    },
    {
      "cell_type": "code",
      "source": [
        "print(movies['genres'].head())"
      ],
      "metadata": {
        "colab": {
          "base_uri": "https://localhost:8080/"
        },
        "id": "jiKVZWyp7550",
        "outputId": "269ea79a-a9cc-478d-adb8-9e3d88281dc5"
      },
      "execution_count": null,
      "outputs": [
        {
          "output_type": "stream",
          "name": "stdout",
          "text": [
            "0    Action|Adventure|Science Fiction|Thriller\n",
            "1    Action|Adventure|Science Fiction|Thriller\n",
            "2           Adventure|Science Fiction|Thriller\n",
            "3     Action|Adventure|Science Fiction|Fantasy\n",
            "4                        Action|Crime|Thriller\n",
            "Name: genres, dtype: object\n"
          ]
        }
      ]
    },
    {
      "cell_type": "code",
      "source": [
        "movies = movies.dropna(subset=['overview', 'genres'])"
      ],
      "metadata": {
        "id": "bSO5xa408BGx"
      },
      "execution_count": null,
      "outputs": []
    },
    {
      "cell_type": "code",
      "source": [
        "def convert_genres(genres_str):\n",
        "    try:\n",
        "        genres = ast.literal_eval(genres_str)\n",
        "        genre_list = [genre['name'] for genre in genres]\n",
        "        return \" \".join(genre_list)\n",
        "    except (ValueError, SyntaxError) as e:\n",
        "        return \"\""
      ],
      "metadata": {
        "id": "TkFd4yoI8E0S"
      },
      "execution_count": null,
      "outputs": []
    },
    {
      "cell_type": "code",
      "source": [
        "movies['genres'] = movies['genres'].apply(convert_genres)\n",
        "movies['overview'] = movies['overview'].fillna('')\n",
        "movies['combined_features'] = movies['overview'] + \" \" + movies['genres']\n"
      ],
      "metadata": {
        "id": "0CWiKNuN8M7x"
      },
      "execution_count": null,
      "outputs": []
    },
    {
      "cell_type": "code",
      "source": [
        "tfidf_vectorizer = TfidfVectorizer(stop_words='english')\n",
        "tfidf_matrix = tfidf_vectorizer.fit_transform(movies['combined_features'])"
      ],
      "metadata": {
        "id": "ExeoH7Gd8V9c"
      },
      "execution_count": null,
      "outputs": []
    },
    {
      "cell_type": "code",
      "source": [
        "cosine_sim = cosine_similarity(tfidf_matrix, tfidf_matrix)\n",
        "movie_indices = pd.Series(movies.index, index=movies['original_title']).drop_duplicates()"
      ],
      "metadata": {
        "id": "jofJe0aG8c6z"
      },
      "execution_count": null,
      "outputs": []
    },
    {
      "cell_type": "code",
      "source": [
        "def get_recommendations(original_title, cosine_sim=cosine_sim):\n",
        "    idx = movie_indices[original_title]\n",
        "    sim_scores = list(enumerate(cosine_sim[idx]))\n",
        "    sim_scores = sorted(sim_scores, key=lambda x: x[1], reverse=True)\n",
        "    sim_scores = sim_scores[1:11]\n",
        "    movie_indices_recommend = [i[0] for i in sim_scores]\n",
        "    return movies['original_title'].iloc[movie_indices_recommend]"
      ],
      "metadata": {
        "id": "7-7gUwwn-HUk"
      },
      "execution_count": null,
      "outputs": []
    },
    {
      "cell_type": "code",
      "source": [
        "recommended_movies = get_recommendations('The Godfather')\n",
        "print(\"Recommended Movies:\")\n",
        "print(recommended_movies)"
      ],
      "metadata": {
        "colab": {
          "base_uri": "https://localhost:8080/"
        },
        "id": "nT9362yv8lEq",
        "outputId": "bd259770-e327-4084-cbab-c36c38ea3be6"
      },
      "execution_count": null,
      "outputs": [
        {
          "output_type": "stream",
          "name": "stdout",
          "text": [
            "Recommended Movies:\n",
            "1267                            The Godfather: Part III\n",
            "835                                      Mambo Italiano\n",
            "831                               House of 1000 Corpses\n",
            "1139                                 Death at a Funeral\n",
            "932                                       Four Brothers\n",
            "663                                             Rampart\n",
            "791     For Greater Glory - The True Story of Cristiada\n",
            "337                                 The Next Three Days\n",
            "981                                        The Fountain\n",
            "953                                               Brick\n",
            "Name: original_title, dtype: object\n"
          ]
        }
      ]
    }
  ]
}